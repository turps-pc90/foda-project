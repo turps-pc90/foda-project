{
 "cells": [
  {
   "cell_type": "markdown",
   "metadata": {},
   "source": [
    "### Paul Callaghan\n",
    "### Fundamentals of Data Analysis Winter 2023/24 Assessment\n",
    "***\n",
    "> #### Project\n",
    "> - The project is to create a notebook investigating the variables and data points within the well-known iris flower data set associated with Ronald A Fisher.\n",
    ">\n",
    "> - In the notebook, you should discuss the classification of each variable within the data set according to common variable types and scales of measurement in mathematics, statistics, and Python.\n",
    ">\n",
    "> - Select, demonstrate, and explain the most appropriate summary statistics to describe each variable.\n",
    ">\n",
    "> - Select, demonstrate, and explain the most appropriate plot(s) for each variable.\n",
    "> \n",
    "> - The notebook should follow a cohesive narrative about the data set.\n",
    "***"
   ]
  },
  {
   "cell_type": "markdown",
   "metadata": {},
   "source": [
    "> ### Academic References\n",
    "> - GeeksforGeeks. (2020, July 15). NumPy Random Choice() in Python. Retrieved from: https://www.geeksforgeeks.org/numpy-random-choice-in-python/.\n",
    ">\n",
    "> - Molin, S. (2019). Hands-On Data Analysis with Pandas.\n",
    ">\n",
    ">![Image](https://m.media-amazon.com/images/I/71fe9zjm3yL._AC_UF350,350_QL50_.jpg)\n",
    ">\n",
    "> - [McKenna, H., Chang, L., & Brinkerhoff, R. (2023). Numeracy: A Quantitative Reasoning Approach.](https://uen.pressbooks.pub/uvumqr/)\n",
    ">\n",
    "> ![Image](https://uen.pressbooks.pub/app/uploads/sites/202/2023/01/Numeracy-Front-Cover-2-350x453.png)\n",
    ">\n",
    "> - Wikipedia contributors. (2023, October 30). Iris flower data set. In Wikipedia, The Free Encyclopedia. Retrieved 19:27, November 8, 2023, from https://en.wikipedia.org/w/index.php?title=Iris_flower_data_set&oldid=1182668394\n",
    ">\n",
    "> - Akshay, A. (2020, February 4). Descriptive Statistics with Pandas on Iris Data (Beginner). Retrieved from: https://akshay-a.medium.com/descriptive-statistics-with-pandas-on-iris-data-beginner-bbc4422597ea.\n",
    ">\n",
    "> - Wikipedia contributors. (2023, November 6). Interquartile range. Wikipedia, The Free Encyclopedia. Retrieved November 10, 2023, from https://en.wikipedia.org/w/index.php?title=Interquartile_range&oldid=1183795617.\n",
    "\n",
    ">### Technical References\n",
    "> - IBM. (n.d.). Markdown and HTML quick reference. Retrieved from: https://www.ibm.com/docs/en/watson-studio-local/1.2.3?topic=notebooks-markdown-jupyter-cheatsheet.\n",
    ">\n",
    "> - Seaborn. (n.d.). seaborn.load_dataset. Retrieved from: https://seaborn.pydata.org/generated/seaborn.load_dataset.html.\n",
    ">\n",
    "> - Pandas. (n.d.). pandas.DataFrame.describe. Retrieved from: https://pandas.pydata.org/docs/reference/api/pandas.DataFrame.describe.html.\n",
    "> \n",
    "> - Marques, A. (2022, December 20). How to Show All Columns and Rows in a Pandas DataFrame. Retrieved from: https://builtin.com/data-science/pandas-show-all-columns.\n",
    "\n",
    "***"
   ]
  },
  {
   "cell_type": "markdown",
   "metadata": {},
   "source": [
    "I will use the [**seaborn.load_datset**](https://github.com/mwaskom/seaborn-data/blob/master/iris.csv) function to load the Iris dataset"
   ]
  },
  {
   "cell_type": "code",
   "execution_count": 1,
   "metadata": {},
   "outputs": [
    {
     "ename": "ModuleNotFoundError",
     "evalue": "No module named 'seaborn'",
     "output_type": "error",
     "traceback": [
      "\u001b[1;31m---------------------------------------------------------------------------\u001b[0m",
      "\u001b[1;31mModuleNotFoundError\u001b[0m                       Traceback (most recent call last)",
      "Cell \u001b[1;32mIn[1], line 2\u001b[0m\n\u001b[0;32m      1\u001b[0m \u001b[38;5;66;03m# Library Imports\u001b[39;00m\n\u001b[1;32m----> 2\u001b[0m \u001b[38;5;28;01mimport\u001b[39;00m \u001b[38;5;21;01mseaborn\u001b[39;00m \u001b[38;5;28;01mas\u001b[39;00m \u001b[38;5;21;01msns\u001b[39;00m\n\u001b[0;32m      4\u001b[0m iris \u001b[38;5;241m=\u001b[39m sns\u001b[38;5;241m.\u001b[39mload_dataset(\u001b[38;5;124m'\u001b[39m\u001b[38;5;124miris\u001b[39m\u001b[38;5;124m'\u001b[39m)\n\u001b[0;32m      6\u001b[0m \u001b[38;5;66;03m# Print head and tail of dataset to check that it is retrieved.\u001b[39;00m\n",
      "\u001b[1;31mModuleNotFoundError\u001b[0m: No module named 'seaborn'"
     ]
    }
   ],
   "source": [
    "# Library Imports\n",
    "import seaborn as sns\n",
    "\n",
    "iris = sns.load_dataset('iris')\n",
    "\n",
    "# Print head and tail of dataset to check that it is retrieved.\n",
    "print(iris.head(), iris.tail())\n",
    "\n",
    "# Print datatypes for each column\n",
    "print(iris.dtypes)"
   ]
  },
  {
   "cell_type": "markdown",
   "metadata": {},
   "source": [
    "#### Classification of Each Variable\n",
    "There are five variables within Fisher's Iris dataset. These are: \n",
    "\n",
    "> - Sepal Length (*sepal_length*)\n",
    ">\n",
    "> - Sepal Width (*sepal_width*)\n",
    ">\n",
    "> - Petal Length (*petal_length*)\n",
    ">\n",
    "> - Petal Width (*petal_width*)\n",
    ">\n",
    "> - Species (*species*)\n",
    ">\n",
    "##### Classification\n",
    "[Laerd Statistics](https://statistics.laerd.com/statistical-guides/types-of-variable.php) have a useful guide for classification of data where they split data into two basic variables - *categorical* and *continuous*. Unless otherwise stated, quotes in the definitions below are from the Laerd Statistics definitions as per the link. \n",
    "\n",
    "**Categorical (Qualitative):**\n",
    "> *Nominal Variables* \n",
    "> - \"Variables that have two or more categories, but which do not have an intrinsic order\" (Laerd Statistics). McKenna et al (2023) describes nominal data as data classified \"purely by labelling or naming values\". An example for nominal variables could be where a car dealer classifies their cars into distinct categories - *hatchback*, *saloon*, *estate* and *SUV*. The only variable from the dataset that would be a nominal is *species*. When Edgar Anderson collected the data for this dataset, he selected which species of iris to measure and could have picked other species but decided upon three with no order on any of them. \n",
    "\n",
    "> *Dichotomous Variables*\n",
    "> - Nominal variables which have only two categories or levels. Classifying of gender (as male or female), GAA season-ticket holders (as yes or no), Lyon's or Barry's teabags (as Lyon's or Barry's) are examples of dichotomous variables. There are no dichotomous variables in the iris dataset. \n",
    "\n",
    "\n",
    "> *Ordinal Variables*\n",
    "> - Like nomrinal variables but the categories could be ranked, even if the distances between categories are not specific. An example of ordinal variables could be education level. The gap between *primary school* and *secondary school*, compared to *secondary school* and *university* are not uniform but one would rank education level as *primary school* at the lowest of the variables for education level. \n",
    "\n",
    "\n",
    "**Continuous (Quantative):**\n",
    "> *Interval Variables* \n",
    "> - \"Variables for which their central characteristic is that they can be measured along a continuum and they have a numerical value (for example, temperature measured in degrees Celsius or Fahrenheit)\". The *sepal length*, *sepal width*, *petal length* and *petal width* variables do not fit the definition of interval variables as while they measured along a continuum, a zero measurement of any of the four measurements would indicate an absence of that measurement. This would leave the four variables as being the only other type of continuous (qualitative) variable. \n",
    "\n",
    "> *Ratio Variables*\n",
    "> - \"Are interval variables, but with the added condition that 0 (zero) of the measurement indicates that there is none of that variable\". The *sepal length*, *sepal width*, *petal length* and *petal width* variables are all examples of a ratio variable. \n"
   ]
  },
  {
   "cell_type": "markdown",
   "metadata": {},
   "source": [
    "#### Appropriate Summary Statistics\n",
    "Firstly, I will utilise the **pandas.describe()** function to obtain summarised statistics and I will also ensure to display all columns and rows of this summarised data (using the steps found in [Andryw Marques' guide](https://builtin.com/data-science/pandas-show-all-columns) on builtin.com)"
   ]
  },
  {
   "cell_type": "code",
   "execution_count": null,
   "metadata": {},
   "outputs": [],
   "source": [
    "# Library Imports\n",
    "import pandas as pd\n",
    "\n",
    "# Set display options to show all rows and columns\n",
    "pd.set_option('display.max_rows', None)\n",
    "pd.set_option('display.max_columns', None)\n",
    "\n",
    "# Summarise statistics using pandas.describe(), grouping by species type\n",
    "summary_stats = iris.groupby('species').describe()\n",
    "print(summary_stats)"
   ]
  },
  {
   "cell_type": "markdown",
   "metadata": {},
   "source": [
    "##### Analysis:\n",
    "\n",
    "I have grouped the iris dataset by the nominal variable of *species* and thus leaving me with the summarised data of all four of the ratio variables - *sepal length*, *sepal width*, *petal length* and *petal width*. \n",
    "\n",
    "**Count** - represents the number of rows found for each variable within each species. The describe() function shows us that the counts of each variable is equal across the three species. \n",
    "\n",
    "**Mean** - The average value for each variable. A quick analysis of the means above would indicate that in general, the *iris virginica* would have longer petal and sepals and the setosa would have significantly shorter length petals than the versicolor and the virginica.\n",
    "\n",
    "**std** - The standard deviation indicates the variance either side of the mean (how many measurements are above or below the mean) and this is often illustrated using the bell curve. \n",
    "\n",
    "**min and max** - Minumum and Maximum indicates the highest and lowest measurement of each of the variables. \n",
    "\n",
    "**Quartiles (25%, 50%, 75%)** - The quartiles are normally used to calculate the interquartile range ([IQR](https://en.wikipedia.org/wiki/Interquartile_range)). By subtracting Q1 from Q3 you get the middle 50% of the dataset and makes the data more robust against the outliers of the data.\n",
    "\n",
    "***"
   ]
  },
  {
   "cell_type": "markdown",
   "metadata": {},
   "source": [
    "#### Appropriate Plotting\n"
   ]
  },
  {
   "cell_type": "markdown",
   "metadata": {},
   "source": [
    "The *sepal length*, *sepal width*, *petal length* and *petal width* variables are all examples of a ratio variable while the *species* is a nominal variable. I am first going to try to plot the *petal_length* on a strip plot as it shows the petal length of each species without overlapping the data.\n",
    "\n",
    "I have used the examples from the [Matplotlib Subplots](https://matplotlib.org/stable/api/_as_gen/matplotlib.pyplot.subplots.html) and [Matplotlib Tight Layout](https://matplotlib.org/stable/api/_as_gen/matplotlib.pyplot.tight_layout.html) documentation to guide the layout below."
   ]
  },
  {
   "cell_type": "code",
   "execution_count": null,
   "metadata": {},
   "outputs": [],
   "source": [
    "# Library Imports\n",
    "import pandas as pd\n",
    "import seaborn as sns\n",
    "import matplotlib.pyplot as plt\n",
    "\n",
    "# Create a 1x2 grid for subplots\n",
    "fig, axes = plt.subplots(1, 2, figsize=(12, 5))\n",
    "\n",
    "# Strip Plot of Petal Length\n",
    "sns.stripplot(data=iris, x='species', y='petal_length', hue='species', ax=axes[0])\n",
    "\n",
    "# Swarm Plot of Petal Width\n",
    "sns.swarmplot(data=iris, x='species', y='petal_width', hue='species', ax=axes[1])\n",
    "\n",
    "# Adjust layout to prevent overlapping titles\n",
    "plt.tight_layout()\n",
    "\n",
    "# Show the plots\n",
    "plt.show()"
   ]
  },
  {
   "cell_type": "markdown",
   "metadata": {},
   "source": [
    "It would be fair to point out based on the above strip plot that the petal length of the setosa is generally significantly smaller than the versicolor and virginica while the versicolor and virginica petal length measurements would have some overlap (the smaller measurements of virginica are similar to the bigger measurements of the versicolor). According to the [Seaborn Documentation on Strip Plots](https://seaborn.pydata.org/generated/seaborn.stripplot.html), these are often used as a complement to a box or violin plot. \n",
    "\n",
    "Similarly, the swarmplot illustrates the setosa petal sizes being significantly smaller than that of the versicolor and virginica. The Seaborn documentation states that the swarmplot \"*does not scale well to large numbers of observations*\" so the small sample size of the Iris dataset is suitable for this plot type. "
   ]
  },
  {
   "cell_type": "code",
   "execution_count": null,
   "metadata": {},
   "outputs": [],
   "source": [
    "# Create a 1x2 grid for subplots\n",
    "fig, axes = plt.subplots(1, 2, figsize=(12, 5))\n",
    "\n",
    "# Box Plot of Sepal Length\n",
    "sns.boxplot(data=iris, x='species', y='sepal_length', hue='species', ax=axes[0])\n",
    "axes[0].set_title('Sepal Length by Species')\n",
    "\n",
    "# Violin Plot of Sepal Width\n",
    "sns.violinplot(data=iris, x='species', y='sepal_width', hue='species', ax=axes[1])\n",
    "axes[1].set_title('Sepal Width by Species')\n",
    "\n",
    "# Adjust layout to prevent overlapping titles\n",
    "plt.tight_layout()\n",
    "\n",
    "# Show the plots\n",
    "plt.show()\n",
    "\n"
   ]
  },
  {
   "cell_type": "markdown",
   "metadata": {},
   "source": [
    "The boxplot above again visually illustrates the size difference between the setosa and the bigger two species of versicolor and virginica. The violinplot similarly illustrates the differences of sepal width by species. \n",
    "\n",
    "The boxplot and violinplot are both better suited to scaling to larger sample sizes. "
   ]
  },
  {
   "cell_type": "markdown",
   "metadata": {},
   "source": [
    "***\n",
    "### END"
   ]
  }
 ],
 "metadata": {
  "kernelspec": {
   "display_name": "base",
   "language": "python",
   "name": "python3"
  },
  "language_info": {
   "codemirror_mode": {
    "name": "ipython",
    "version": 3
   },
   "file_extension": ".py",
   "mimetype": "text/x-python",
   "name": "python",
   "nbconvert_exporter": "python",
   "pygments_lexer": "ipython3",
   "version": "3.10.7"
  }
 },
 "nbformat": 4,
 "nbformat_minor": 2
}
