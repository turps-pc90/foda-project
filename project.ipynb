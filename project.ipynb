{
 "cells": [
  {
   "cell_type": "markdown",
   "metadata": {},
   "source": [
    "### Paul Callaghan\n",
    "### Fundamentals of Data Analysis Winter 2023/24 Assessment\n",
    "***\n",
    "> #### Project\n",
    "> - The project is to create a notebook investigating the variables and data points within the well-known iris flower data set associated with Ronald A Fisher.\n",
    ">\n",
    "> - In the notebook, you should discuss the classification of each variable within the data set according to common variable types and scales of measurement in mathematics, statistics, and Python.\n",
    ">\n",
    "> - Select, demonstrate, and explain the most appropriate summary statistics to describe each variable.\n",
    ">\n",
    "> - Select, demonstrate, and explain the most appropriate plot(s) for each variable.\n",
    "> \n",
    "> - The notebook should follow a cohesive narrative about the data set.\n",
    "***"
   ]
  },
  {
   "cell_type": "markdown",
   "metadata": {},
   "source": [
    "> ### Academic References\n",
    "> - GeeksforGeeks. (2020, July 15). NumPy Random Choice() in Python. Retrieved from: https://www.geeksforgeeks.org/numpy-random-choice-in-python/.\n",
    ">\n",
    "> - Molin, S. (2019). Hands-On Data Analysis with Pandas.\n",
    ">\n",
    ">![Image](https://m.media-amazon.com/images/I/71fe9zjm3yL._AC_UF350,350_QL50_.jpg)\n",
    ">\n",
    "> - [McKenna, H., Chang, L., & Brinkerhoff, R. (2023). Numeracy: A Quantitative Reasoning Approach.](https://uen.pressbooks.pub/uvumqr/)\n",
    ">\n",
    "> ![Image](https://uen.pressbooks.pub/app/uploads/sites/202/2023/01/Numeracy-Front-Cover-2-350x453.png)\n",
    "\n",
    ">### Technical References\n",
    "> - IBM. (n.d.). Markdown and HTML quick reference. Retrieved from: https://www.ibm.com/docs/en/watson-studio-local/1.2.3?topic=notebooks-markdown-jupyter-cheatsheet.\n",
    ">\n",
    "> - Seaborn. (n.d.). seaborn.load_dataset. Retrieved from: https://seaborn.pydata.org/generated/seaborn.load_dataset.html.\n",
    ">\n",
    "***"
   ]
  },
  {
   "cell_type": "markdown",
   "metadata": {},
   "source": [
    "I will use the [**seaborn.load_datset**](https://github.com/mwaskom/seaborn-data/blob/master/iris.csv) function to load the Iris dataset"
   ]
  },
  {
   "cell_type": "code",
   "execution_count": 7,
   "metadata": {},
   "outputs": [
    {
     "name": "stdout",
     "output_type": "stream",
     "text": [
      "   sepal_length  sepal_width  petal_length  petal_width species\n",
      "0           5.1          3.5           1.4          0.2  setosa\n",
      "1           4.9          3.0           1.4          0.2  setosa\n",
      "2           4.7          3.2           1.3          0.2  setosa\n",
      "3           4.6          3.1           1.5          0.2  setosa\n",
      "4           5.0          3.6           1.4          0.2  setosa      sepal_length  sepal_width  petal_length  petal_width    species\n",
      "145           6.7          3.0           5.2          2.3  virginica\n",
      "146           6.3          2.5           5.0          1.9  virginica\n",
      "147           6.5          3.0           5.2          2.0  virginica\n",
      "148           6.2          3.4           5.4          2.3  virginica\n",
      "149           5.9          3.0           5.1          1.8  virginica\n",
      "sepal_length    float64\n",
      "sepal_width     float64\n",
      "petal_length    float64\n",
      "petal_width     float64\n",
      "species          object\n",
      "dtype: object\n"
     ]
    }
   ],
   "source": [
    "# Library Imports\n",
    "import seaborn as sns\n",
    "\n",
    "iris = sns.load_dataset('iris')\n",
    "\n",
    "# Print head and tail of dataset to check that it is retrieved.\n",
    "print(iris.head(), iris.tail())\n",
    "\n",
    "# Print datatypes for each column\n",
    "print(iris.dtypes)"
   ]
  },
  {
   "cell_type": "markdown",
   "metadata": {},
   "source": [
    "#### Classification of Each Variable\n",
    "There are five variables within Fisher's Iris dataset. These are: \n",
    "\n",
    "> - Sepal Length (*sepal_length*)\n",
    ">\n",
    "> - Sepal Width (*sepal_width*)\n",
    ">\n",
    "> - Petal Length (*petal_length*)\n",
    ">\n",
    "> - Petal Width (*petal_width*)\n",
    ">\n",
    "> - Species (*species*)\n",
    ">\n",
    "##### Classification\n",
    "[Laerd Statistics](https://statistics.laerd.com/statistical-guides/types-of-variable.php) have a useful guide for classification of data where they split data into two basic variables - *categorical* and *continuous*.\n",
    "\n",
    "**Categorical (Qualitative):**\n",
    "- \"Nominal variables are variables that have two or more categories, but which do not have an intrinsic order\" (Laerd Statistics).\n",
    "\n",
    "McKenna et al (2023) describes nominal data as data classified purely \"purely by labelling or naming values\". \n",
    "\n",
    "The only variable from the dataset that would be a nominal is *species*\n",
    "\n",
    "**Continuous (Quantative):**\n"
   ]
  },
  {
   "cell_type": "markdown",
   "metadata": {},
   "source": []
  },
  {
   "cell_type": "markdown",
   "metadata": {},
   "source": []
  }
 ],
 "metadata": {
  "kernelspec": {
   "display_name": "base",
   "language": "python",
   "name": "python3"
  },
  "language_info": {
   "codemirror_mode": {
    "name": "ipython",
    "version": 3
   },
   "file_extension": ".py",
   "mimetype": "text/x-python",
   "name": "python",
   "nbconvert_exporter": "python",
   "pygments_lexer": "ipython3",
   "version": "3.10.9"
  }
 },
 "nbformat": 4,
 "nbformat_minor": 2
}
