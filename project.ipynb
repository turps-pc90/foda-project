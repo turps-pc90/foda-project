{
 "cells": [
  {
   "cell_type": "markdown",
   "metadata": {},
   "source": [
    "### Paul Callaghan\n",
    "### Fundamentals of Data Analysis Winter 2023/24 Assessment\n",
    "***\n",
    "> #### Project\n",
    "> - The project is to create a notebook investigating the variables and data points within the well-known iris flower data set associated with Ronald A Fisher.\n",
    ">\n",
    "> - In the notebook, you should discuss the classification of each variable within the data set according to common variable types and scales of measurement in mathematics, statistics, and Python.\n",
    ">\n",
    "> - Select, demonstrate, and explain the most appropriate summary statistics to describe each variable.\n",
    ">\n",
    "> - Select, demonstrate, and explain the most appropriate plot(s) for each variable.\n",
    "> \n",
    "> - The notebook should follow a cohesive narrative about the data set.\n",
    "***"
   ]
  },
  {
   "cell_type": "markdown",
   "metadata": {},
   "source": [
    "> ### Academic References\n",
    "> - GeeksforGeeks. (2020, July 15). NumPy Random Choice() in Python. Retrieved from: https://www.geeksforgeeks.org/numpy-random-choice-in-python/.\n",
    ">\n",
    "> - Molin, S. (2019). Hands-On Data Analysis with Pandas.\n",
    ">\n",
    ">![Image](https://m.media-amazon.com/images/I/71fe9zjm3yL._AC_UF350,350_QL50_.jpg)\n",
    ">\n",
    "> - [McKenna, H., Chang, L., & Brinkerhoff, R. (2023). Numeracy: A Quantitative Reasoning Approach.](https://uen.pressbooks.pub/uvumqr/)\n",
    ">\n",
    "> ![Image](https://uen.pressbooks.pub/app/uploads/sites/202/2023/01/Numeracy-Front-Cover-2-350x453.png)\n",
    ">\n",
    "> - Wikipedia contributors. (2023, October 30). Iris flower data set. In Wikipedia, The Free Encyclopedia. Retrieved 19:27, November 8, 2023, from https://en.wikipedia.org/w/index.php?title=Iris_flower_data_set&oldid=1182668394\n",
    ">\n",
    "> - Akshay, A. (2020, February 4). Descriptive Statistics with Pandas on Iris Data (Beginner). Retrieved from: https://akshay-a.medium.com/descriptive-statistics-with-pandas-on-iris-data-beginner-bbc4422597ea.\n",
    ">\n",
    "> - Wikipedia contributors. (2023, November 6). Interquartile range. Wikipedia, The Free Encyclopedia. Retrieved November 10, 2023, from https://en.wikipedia.org/w/index.php?title=Interquartile_range&oldid=1183795617.\n",
    "\n",
    ">### Technical References\n",
    "> - IBM. (n.d.). Markdown and HTML quick reference. Retrieved from: https://www.ibm.com/docs/en/watson-studio-local/1.2.3?topic=notebooks-markdown-jupyter-cheatsheet.\n",
    ">\n",
    "> - Seaborn. (n.d.). seaborn.load_dataset. Retrieved from: https://seaborn.pydata.org/generated/seaborn.load_dataset.html.\n",
    ">\n",
    "> - Pandas. (n.d.). pandas.DataFrame.describe. Retrieved from: https://pandas.pydata.org/docs/reference/api/pandas.DataFrame.describe.html.\n",
    "> \n",
    "> - Marques, A. (2022, December 20). How to Show All Columns and Rows in a Pandas DataFrame. Retrieved from: https://builtin.com/data-science/pandas-show-all-columns.\n",
    "\n",
    "***"
   ]
  },
  {
   "cell_type": "markdown",
   "metadata": {},
   "source": [
    "I will use the [**seaborn.load_datset**](https://github.com/mwaskom/seaborn-data/blob/master/iris.csv) function to load the Iris dataset"
   ]
  },
  {
   "cell_type": "code",
   "execution_count": 2,
   "metadata": {},
   "outputs": [
    {
     "name": "stdout",
     "output_type": "stream",
     "text": [
      "   sepal_length  sepal_width  petal_length  petal_width species\n",
      "0           5.1          3.5           1.4          0.2  setosa\n",
      "1           4.9          3.0           1.4          0.2  setosa\n",
      "2           4.7          3.2           1.3          0.2  setosa\n",
      "3           4.6          3.1           1.5          0.2  setosa\n",
      "4           5.0          3.6           1.4          0.2  setosa      sepal_length  sepal_width  petal_length  petal_width    species\n",
      "145           6.7          3.0           5.2          2.3  virginica\n",
      "146           6.3          2.5           5.0          1.9  virginica\n",
      "147           6.5          3.0           5.2          2.0  virginica\n",
      "148           6.2          3.4           5.4          2.3  virginica\n",
      "149           5.9          3.0           5.1          1.8  virginica\n",
      "sepal_length    float64\n",
      "sepal_width     float64\n",
      "petal_length    float64\n",
      "petal_width     float64\n",
      "species          object\n",
      "dtype: object\n"
     ]
    }
   ],
   "source": [
    "# Library Imports\n",
    "import seaborn as sns\n",
    "\n",
    "iris = sns.load_dataset('iris')\n",
    "\n",
    "# Print head and tail of dataset to check that it is retrieved.\n",
    "print(iris.head(), iris.tail())\n",
    "\n",
    "# Print datatypes for each column\n",
    "print(iris.dtypes)"
   ]
  },
  {
   "cell_type": "markdown",
   "metadata": {},
   "source": [
    "#### Classification of Each Variable\n",
    "There are five variables within Fisher's Iris dataset. These are: \n",
    "\n",
    "> - Sepal Length (*sepal_length*)\n",
    ">\n",
    "> - Sepal Width (*sepal_width*)\n",
    ">\n",
    "> - Petal Length (*petal_length*)\n",
    ">\n",
    "> - Petal Width (*petal_width*)\n",
    ">\n",
    "> - Species (*species*)\n",
    ">\n",
    "##### Classification\n",
    "[Laerd Statistics](https://statistics.laerd.com/statistical-guides/types-of-variable.php) have a useful guide for classification of data where they split data into two basic variables - *categorical* and *continuous*. Unless otherwise stated, quotes in the definitions below are from the Laerd Statistics definitions as per the link. \n",
    "\n",
    "**Categorical (Qualitative):**\n",
    "> *Nominal Variables* \n",
    "> - \"Variables that have two or more categories, but which do not have an intrinsic order\" (Laerd Statistics). McKenna et al (2023) describes nominal data as data classified \"purely by labelling or naming values\". An example for nominal variables could be where a car dealer classifies their cars into distinct categories - *hatchback*, *saloon*, *estate* and *SUV*. The only variable from the dataset that would be a nominal is *species*. When Edgar Anderson collected the data for this dataset, he selected which species of iris to measure and could have picked other species but decided upon three with no order on any of them. \n",
    "\n",
    "> *Dichotomous Variables*\n",
    "> - Nominal variables which have only two categories or levels. Classifying of gender (as male or female), GAA season-ticket holders (as yes or no), Lyon's or Barry's teabags (as Lyon's or Barry's) are examples of dichotomous variables. There are no dichotomous variables in the iris dataset. \n",
    "\n",
    "\n",
    "> *Ordinal Variables*\n",
    "> - Like nomrinal variables but the categories could be ranked, even if the distances between categories are not specific. An example of ordinal variables could be education level. The gap between *primary school* and *secondary school*, compared to *secondary school* and *university* are not uniform but one would rank education level as *primary school* at the lowest of the variables for education level. \n",
    "\n",
    "\n",
    "**Continuous (Quantative):**\n",
    "> *Interval Variables* \n",
    "> - \"Variables for which their central characteristic is that they can be measured along a continuum and they have a numerical value (for example, temperature measured in degrees Celsius or Fahrenheit)\". The *sepal length*, *sepal width*, *petal length* and *petal width* variables do not fit the definition of interval variables as while they measured along a continuum, a zero measurement of any of the four measurements would indicate an absence of that measurement. This would leave the four variables as being the only other type of continuous (qualitative) variable. \n",
    "\n",
    "> *Ratio Variables*\n",
    "> - \"Are interval variables, but with the added condition that 0 (zero) of the measurement indicates that there is none of that variable\". The *sepal length*, *sepal width*, *petal length* and *petal width* variables are all examples of a ratio variable. \n"
   ]
  },
  {
   "cell_type": "markdown",
   "metadata": {},
   "source": [
    "#### Appropriate Summary Statistics\n",
    "Firstly, I will utilise the **pandas.describe()** function to obtain summarised statistics and I will also ensure to display all columns and rows of this summarised data (using the steps found in [Andryw Marques' guide](https://builtin.com/data-science/pandas-show-all-columns) on builtin.com)"
   ]
  },
  {
   "cell_type": "code",
   "execution_count": 5,
   "metadata": {},
   "outputs": [
    {
     "name": "stdout",
     "output_type": "stream",
     "text": [
      "           sepal_length                                              \\\n",
      "                  count   mean       std  min    25%  50%  75%  max   \n",
      "species                                                               \n",
      "setosa             50.0  5.006  0.352490  4.3  4.800  5.0  5.2  5.8   \n",
      "versicolor         50.0  5.936  0.516171  4.9  5.600  5.9  6.3  7.0   \n",
      "virginica          50.0  6.588  0.635880  4.9  6.225  6.5  6.9  7.9   \n",
      "\n",
      "           sepal_width                                                \\\n",
      "                 count   mean       std  min    25%  50%    75%  max   \n",
      "species                                                                \n",
      "setosa            50.0  3.428  0.379064  2.3  3.200  3.4  3.675  4.4   \n",
      "versicolor        50.0  2.770  0.313798  2.0  2.525  2.8  3.000  3.4   \n",
      "virginica         50.0  2.974  0.322497  2.2  2.800  3.0  3.175  3.8   \n",
      "\n",
      "           petal_length                                               \\\n",
      "                  count   mean       std  min  25%   50%    75%  max   \n",
      "species                                                                \n",
      "setosa             50.0  1.462  0.173664  1.0  1.4  1.50  1.575  1.9   \n",
      "versicolor         50.0  4.260  0.469911  3.0  4.0  4.35  4.600  5.1   \n",
      "virginica          50.0  5.552  0.551895  4.5  5.1  5.55  5.875  6.9   \n",
      "\n",
      "           petal_width                                            \n",
      "                 count   mean       std  min  25%  50%  75%  max  \n",
      "species                                                           \n",
      "setosa            50.0  0.246  0.105386  0.1  0.2  0.2  0.3  0.6  \n",
      "versicolor        50.0  1.326  0.197753  1.0  1.2  1.3  1.5  1.8  \n",
      "virginica         50.0  2.026  0.274650  1.4  1.8  2.0  2.3  2.5  \n"
     ]
    }
   ],
   "source": [
    "# Library Imports\n",
    "import pandas as pd\n",
    "\n",
    "# Set display options to show all rows and columns\n",
    "pd.set_option('display.max_rows', None)\n",
    "pd.set_option('display.max_columns', None)\n",
    "\n",
    "# Summarise statistics using pandas.describe(), grouping by species type\n",
    "summary_stats = iris.groupby('species').describe()\n",
    "print(summary_stats)"
   ]
  },
  {
   "cell_type": "markdown",
   "metadata": {},
   "source": [
    "##### Analysis:\n",
    "\n",
    "I have grouped the iris dataset by the nominal variable of *species* and thus leaving me with the summarised data of all four of the ratio variables - *sepal length*, *sepal width*, *petal length* and *petal width*. \n",
    "\n",
    "**Count** - represents the number of rows found for each variable within each species. The describe() function shows us that the counts of each variable is equal across the three species. \n",
    "\n",
    "**Mean** - The average value for each variable. A quick analysis of the means above would indicate that in general, the *iris virginica* would have longer petal and sepals and the setosa would have significantly shorter length petals than the versicolor and the virginica.\n",
    "\n",
    "**std** - The standard deviation indicates the variance either side of the mean (how many measurements are above or below the mean) and this is often illustrated using the bell curve. \n",
    "\n",
    "**min and max** - Minumum and Maximum indicates the highest and lowest measurement of each of the variables. \n",
    "\n",
    "**Quartiles (25%, 50%, 75%)** - The quartiles are normally used to calculate the interquartile range ([IQR](https://en.wikipedia.org/wiki/Interquartile_range)). By subtracting Q1 from Q3 you get the middle 50% of the dataset and makes the data more robust against the outliers of the data.\n",
    "\n",
    "***"
   ]
  },
  {
   "cell_type": "markdown",
   "metadata": {},
   "source": [
    "#### Appropriate Plotting\n"
   ]
  },
  {
   "cell_type": "markdown",
   "metadata": {},
   "source": []
  }
 ],
 "metadata": {
  "kernelspec": {
   "display_name": "base",
   "language": "python",
   "name": "python3"
  },
  "language_info": {
   "codemirror_mode": {
    "name": "ipython",
    "version": 3
   },
   "file_extension": ".py",
   "mimetype": "text/x-python",
   "name": "python",
   "nbconvert_exporter": "python",
   "pygments_lexer": "ipython3",
   "version": "3.10.9"
  }
 },
 "nbformat": 4,
 "nbformat_minor": 2
}
